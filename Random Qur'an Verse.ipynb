{
 "cells": [
  {
   "cell_type": "code",
   "execution_count": 5,
   "id": "786996ac",
   "metadata": {},
   "outputs": [],
   "source": [
    "import requests\n",
    "import json\n",
    "from random import randint"
   ]
  },
  {
   "cell_type": "code",
   "execution_count": 6,
   "id": "463adca2",
   "metadata": {},
   "outputs": [],
   "source": [
    "# Function to produce a random ayah from the Qur'an\n",
    "def get_random_ayat():\n",
    "    # Get random number between 1 and 6236 (the number of ayahs in the Qur'an)\n",
    "    global ayat \n",
    "    ayat = randint(1, 6236)\n",
    "    \n",
    "    # Get ayah data from Al Qur'an Cloud API\n",
    "    response = requests.get('http://api.alquran.cloud/v1/ayah/{}/id.indonesian'.format(ayat))\n",
    "    kamus = json.loads(response.text)\n",
    "    \n",
    "    # Print surah and ayah name with Indonesian translation\n",
    "    print(kamus['data']['surah']['englishName'] + \" \" + 'ayat' + \" \" + str(kamus['data']['numberInSurah']))\n",
    "    print(kamus['data']['text'])\n",
    "\n",
    "# Function to provide context by printing a certain number of ayahs before and after the ayah produced by the random ayah function\n",
    "# The function is limited to the random ayah's surah, and thus will return an error message if the ayah number is less than zero,\n",
    "# or if the ayah number is greater than the number of ayahs in the surah\n",
    "def context(before = 0, after = 0):\n",
    "    # Get ayah data from Al Qur'an Cloud API\n",
    "    response = requests.get('http://api.alquran.cloud/v1/ayah/{}/id.indonesian'.format(ayat))\n",
    "    kamus = json.loads(response.text)\n",
    "    \n",
    "    # If there is no argument given, returns the original random ayah\n",
    "    if before == 0 & after == 0:\n",
    "        print(kamus['data']['surah']['englishName'] + \" \" + 'ayat' + \" \" + str(kamus['data']['numberInSurah']))\n",
    "        print(kamus['data']['text'])\n",
    "    \n",
    "    else:\n",
    "        # If ayah number is less than zero, return an error message\n",
    "        if kamus['data']['numberInSurah'] - before <= 0:\n",
    "            print('\"Before\" is out of bounds of the surah!')\n",
    "        \n",
    "        # If ayah number is more than the number of ayahs in the surah, return an error message\n",
    "        elif kamus['data']['numberInSurah'] + after > kamus['data']['surah']['numberOfAyahs']:\n",
    "            print('\"After\" is out of bounds of the surah!')\n",
    "        \n",
    "        else:\n",
    "            # Counter for range of ayahs to print\n",
    "            count_before = ayat - before\n",
    "            count_after = ayat + after\n",
    "            \n",
    "            # Print surah name and ayah range to be printed\n",
    "            print(kamus['data']['surah']['englishName'] + \" \" + 'ayat' + \" \" + str(kamus['data']['numberInSurah'] - before) \n",
    "                  + \"-\" +str(kamus['data']['numberInSurah'] + after))\n",
    "            \n",
    "            # Print every ayah within the specified range\n",
    "            for i in range(count_before, count_after + 1):\n",
    "                responses = requests.get('http://api.alquran.cloud/v1/ayah/{}/id.indonesian'.format(i))\n",
    "                text = json.loads(responses.text)\n",
    "                print(text['data']['text'] + \" (\" + str(text['data']['numberInSurah']) +\")\" )\n",
    "                print('----')"
   ]
  }
 ],
 "metadata": {
  "kernelspec": {
   "display_name": "Python 3 (ipykernel)",
   "language": "python",
   "name": "python3"
  },
  "language_info": {
   "codemirror_mode": {
    "name": "ipython",
    "version": 3
   },
   "file_extension": ".py",
   "mimetype": "text/x-python",
   "name": "python",
   "nbconvert_exporter": "python",
   "pygments_lexer": "ipython3",
   "version": "3.9.7"
  }
 },
 "nbformat": 4,
 "nbformat_minor": 5
}
